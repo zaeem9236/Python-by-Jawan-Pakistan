{
 "cells": [
  {
   "cell_type": "code",
   "execution_count": 1,
   "id": "a4058a6a",
   "metadata": {},
   "outputs": [
    {
     "name": "stdout",
     "output_type": "stream",
     "text": [
      "Twinkle, twinkle, little star, \r\n",
      "\t How I wonder what you are! \r\n",
      "\t\t Up above the world so high,\r\n",
      "\t\t Like a diamond in the sky. \n",
      " Twinkle, twinkle, little star, \n",
      "\t How I wonder what you are\n"
     ]
    }
   ],
   "source": [
    "#1. Write a Python program to print the following string in a specific format (see the output).\n",
    "print('Twinkle, twinkle, little star, \\r\\n\\t How I wonder what you are! \\r\\n\\t\\t Up above the world so high,\\r\\n\\t\\t Like a diamond in the sky. \\n Twinkle, twinkle, little star, \\n\\t How I wonder what you are');"
   ]
  },
  {
   "cell_type": "code",
   "execution_count": 2,
   "id": "74629266",
   "metadata": {},
   "outputs": [
    {
     "name": "stdout",
     "output_type": "stream",
     "text": [
      "3.8.8 (default, Apr 13 2021, 15:08:03) [MSC v.1916 64 bit (AMD64)]\n"
     ]
    }
   ],
   "source": [
    "#2. Write a Python program to get the Python version you are using\n",
    "import sys;\n",
    "print(sys.version);"
   ]
  },
  {
   "cell_type": "code",
   "execution_count": 3,
   "id": "b510b921",
   "metadata": {},
   "outputs": [
    {
     "name": "stdout",
     "output_type": "stream",
     "text": [
      "2021-10-24 00:25:28.824204\n"
     ]
    }
   ],
   "source": [
    "#3. Write a Python program to display the current date and time.\n",
    "import datetime;\n",
    "print(datetime.datetime.now())\n"
   ]
  },
  {
   "cell_type": "code",
   "execution_count": 4,
   "id": "a6b12a37",
   "metadata": {},
   "outputs": [
    {
     "name": "stdout",
     "output_type": "stream",
     "text": [
      "Enter radius of circle: 4\n",
      "radius of circle is : 50.26548245743669\n"
     ]
    }
   ],
   "source": [
    "#4. Write a Python program which accepts the radius of a circle from the user and compute the area.\n",
    "import math;\n",
    "\n",
    "radius = int(input('Enter radius of circle: '));\n",
    "print('radius of circle is : '+str(math.pi*(radius**2)));"
   ]
  },
  {
   "cell_type": "code",
   "execution_count": 5,
   "id": "4e53d843",
   "metadata": {},
   "outputs": [
    {
     "name": "stdout",
     "output_type": "stream",
     "text": [
      "Enter first name: Zaeem\n",
      "Enter last name: Ahmad\n",
      "Ahmad Zaeem\n"
     ]
    }
   ],
   "source": [
    "#5. Write a Python program which accepts the user's first and last name and print them in reverse order with a space between them.\n",
    "firstName = input('Enter first name: ');\n",
    "lastName = input('Enter last name: ');\n",
    "print(lastName +' '+firstName);\n"
   ]
  },
  {
   "cell_type": "code",
   "execution_count": 6,
   "id": "813ac516",
   "metadata": {},
   "outputs": [
    {
     "name": "stdout",
     "output_type": "stream",
     "text": [
      "Enter first number: 3\n",
      "Enter second number: 6\n",
      "sum of two numbers is 9\n"
     ]
    }
   ],
   "source": [
    "#6. Write a python program which takes two inputs from user and print them addition\n",
    "firstNumber = int(input('Enter first number: '));\n",
    "secondNumber = int(input('Enter second number: '));\n",
    "print('sum of two numbers is '+str(firstNumber+secondNumber));"
   ]
  },
  {
   "cell_type": "code",
   "execution_count": 7,
   "id": "3f575e89",
   "metadata": {},
   "outputs": [
    {
     "name": "stdout",
     "output_type": "stream",
     "text": [
      "Enter english marks out of 10: 6\n",
      "Enter maths marks out of 10: 8\n",
      "Enter science marks out of 10: 9\n",
      "Enter physics marks out of 10: 4\n",
      "Enter chemistry marks out of 10: 1\n",
      "you percentage is 56.00000000000001% and your grade is F\n"
     ]
    }
   ],
   "source": [
    "#7. Write a program which takes 5 inputs from user for different subject’s marks, total it and generate mark sheet using grades ?\n",
    "\n",
    "english = int(input('Enter english marks out of 10: '));\n",
    "maths = int(input('Enter maths marks out of 10: '));\n",
    "science = int(input('Enter science marks out of 10: '));\n",
    "physics = int(input('Enter physics marks out of 10: '));\n",
    "chemistry = int(input('Enter chemistry marks out of 10: '));\n",
    "\n",
    "obtained = english+maths+science+physics+chemistry;\n",
    "percentage = (obtained/50)*100;\n",
    "\n",
    "grade = ' ';\n",
    "if percentage >= 90 and percentage <=100:\n",
    "    grade = 'A';\n",
    "elif percentage >= 80 and percentage <90:\n",
    "    grade = 'B';\n",
    "elif percentage >= 70 and percentage <80:\n",
    "    grade = 'C';\n",
    "elif percentage >= 60 and percentage <70:\n",
    "    grade = 'D';\n",
    "else:\n",
    "    grade = 'F';\n",
    "    \n",
    "print('you percentage is '+str(percentage)+'% and your grade is '+grade);  "
   ]
  },
  {
   "cell_type": "code",
   "execution_count": 8,
   "id": "dc919d6a",
   "metadata": {},
   "outputs": [
    {
     "name": "stdout",
     "output_type": "stream",
     "text": [
      "Enter a number: 4\n",
      "4 is even number\n"
     ]
    }
   ],
   "source": [
    "#8. Write a program which take input from user and identify that the given number is even or odd?\n",
    "number = int(input('Enter a number: '));\n",
    "if (number % 2) == 0:\n",
    "   print(str(number)+' is even number');\n",
    "else:\n",
    "   print(str(number)+' is odd number');"
   ]
  },
  {
   "cell_type": "code",
   "execution_count": 9,
   "id": "cefa90f7",
   "metadata": {},
   "outputs": [
    {
     "name": "stdout",
     "output_type": "stream",
     "text": [
      "Length of list is 4\n"
     ]
    }
   ],
   "source": [
    "#9. Write a program which print the length of the list?\n",
    "city = ['peshawar', 'islamabad', 'lahore', 'karachi'];\n",
    "print('Length of list is '+str(len(city)));"
   ]
  },
  {
   "cell_type": "code",
   "execution_count": 10,
   "id": "0705a140",
   "metadata": {},
   "outputs": [
    {
     "name": "stdout",
     "output_type": "stream",
     "text": [
      "sum of numbers in list is 16\n"
     ]
    }
   ],
   "source": [
    "#10. Write a Python program to sum all the numeric items in a list?\n",
    "numList = [2, 3, 4, 1, 2, 4];\n",
    "sum=0;\n",
    "for element in numList:\n",
    "    sum+=element;\n",
    "print('sum of numbers in list is '+str(sum))"
   ]
  },
  {
   "cell_type": "code",
   "execution_count": 11,
   "id": "fab45610",
   "metadata": {},
   "outputs": [
    {
     "name": "stdout",
     "output_type": "stream",
     "text": [
      "Largest number in list is 7\n"
     ]
    }
   ],
   "source": [
    "#11. Write a Python program to get the largest number from a numeric list.\n",
    "numList = [1, 6, 7, 1, 5, 2];\n",
    "largestNum=0;\n",
    "for element in numList:\n",
    "    if element > largestNum:\n",
    "        largestNum=element;\n",
    "print('Largest number in list is '+str(largestNum))"
   ]
  },
  {
   "cell_type": "code",
   "execution_count": 12,
   "id": "9b089e53",
   "metadata": {},
   "outputs": [
    {
     "name": "stdout",
     "output_type": "stream",
     "text": [
      "There are 4 elements is list which are less than 5\n"
     ]
    }
   ],
   "source": [
    "#12. Take a list, say for example this one: a = [1, 1, 2, 3, 5, 8, 13, 21, 34, 55, 89] Write a program that prints out all the elements of the list that are less than 5.\n",
    "a = [1, 1, 2, 3, 5, 8, 13, 21, 34, 55, 89];\n",
    "numList = [];\n",
    "for element in a:\n",
    "    if element < 5:\n",
    "        numList.append(element);\n",
    "print('There are '+str(len(numList))+' elements is list which are less than 5')"
   ]
  },
  {
   "cell_type": "code",
   "execution_count": null,
   "id": "bf7a7d5e",
   "metadata": {},
   "outputs": [],
   "source": []
  }
 ],
 "metadata": {
  "kernelspec": {
   "display_name": "Python 3",
   "language": "python",
   "name": "python3"
  },
  "language_info": {
   "codemirror_mode": {
    "name": "ipython",
    "version": 3
   },
   "file_extension": ".py",
   "mimetype": "text/x-python",
   "name": "python",
   "nbconvert_exporter": "python",
   "pygments_lexer": "ipython3",
   "version": "3.8.8"
  }
 },
 "nbformat": 4,
 "nbformat_minor": 5
}
